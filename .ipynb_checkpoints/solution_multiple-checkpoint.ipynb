{
 "cells": [
  {
   "cell_type": "code",
   "execution_count": 1,
   "id": "48b0e804",
   "metadata": {},
   "outputs": [],
   "source": [
    "from bs4 import BeautifulSoup\n",
    "import requests\n",
    "import pandas as pd"
   ]
  },
  {
   "cell_type": "markdown",
   "id": "603fe55a",
   "metadata": {},
   "source": [
    "#### Retrieve an arbitrary Wikipedia page of \"Python\" and create a list of links on that page: url ='https://en.wikipedia.org/wiki/Python'"
   ]
  },
  {
   "cell_type": "code",
   "execution_count": 2,
   "id": "1b7bd730",
   "metadata": {},
   "outputs": [],
   "source": [
    "url = \"https://en.wikipedia.org/wiki/Python\""
   ]
  },
  {
   "cell_type": "code",
   "execution_count": 3,
   "id": "f38aa97e",
   "metadata": {},
   "outputs": [
    {
     "data": {
      "text/plain": [
       "200"
      ]
     },
     "execution_count": 3,
     "metadata": {},
     "output_type": "execute_result"
    }
   ],
   "source": [
    "response = requests.get(url)\n",
    "response.status_code # 200 status code means OK!"
   ]
  },
  {
   "cell_type": "code",
   "execution_count": 4,
   "id": "d60d39ad",
   "metadata": {},
   "outputs": [],
   "source": [
    "# 4.1. parse html (create the 'soup')\n",
    "soup = BeautifulSoup(response.content, \"html.parser\")"
   ]
  },
  {
   "cell_type": "code",
   "execution_count": 5,
   "id": "9ef5284e",
   "metadata": {},
   "outputs": [],
   "source": [
    "#Check soup\n",
    "#soup.prettify()"
   ]
  },
  {
   "cell_type": "code",
   "execution_count": 6,
   "id": "2cf81ca4",
   "metadata": {},
   "outputs": [
    {
     "data": {
      "text/plain": [
       "[<a href=\"/wiki/Pythonidae\" title=\"Pythonidae\">Pythonidae</a>]"
      ]
     },
     "execution_count": 6,
     "metadata": {},
     "output_type": "execute_result"
    }
   ],
   "source": [
    "soup.select('#mw-content-text > div.mw-parser-output > ul:nth-child(7) > li:nth-child(1) > a')"
   ]
  },
  {
   "cell_type": "code",
   "execution_count": 7,
   "id": "5da3c390",
   "metadata": {},
   "outputs": [
    {
     "data": {
      "text/plain": [
       "[<a href=\"/wiki/Pythonidae\" title=\"Pythonidae\">Pythonidae</a>,\n",
       " <a href=\"/wiki/Python_(genus)\" title=\"Python (genus)\"><i>Python</i> (genus)</a>,\n",
       " <a href=\"/wiki/Python_(mythology)\" title=\"Python (mythology)\">Python (mythology)</a>,\n",
       " <a href=\"/wiki/Python_(programming_language)\" title=\"Python (programming language)\">Python (programming language)</a>,\n",
       " <a href=\"/wiki/CMU_Common_Lisp\" title=\"CMU Common Lisp\">CMU Common Lisp</a>,\n",
       " <a href=\"/wiki/PERQ#PERQ_3\" title=\"PERQ\">PERQ 3</a>,\n",
       " <a href=\"/wiki/Python_of_Aenus\" title=\"Python of Aenus\">Python of Aenus</a>,\n",
       " <a href=\"/wiki/Python_(painter)\" title=\"Python (painter)\">Python (painter)</a>,\n",
       " <a href=\"/wiki/Python_of_Byzantium\" title=\"Python of Byzantium\">Python of Byzantium</a>,\n",
       " <a href=\"/wiki/Python_of_Catana\" title=\"Python of Catana\">Python of Catana</a>,\n",
       " <a href=\"/wiki/Python_Anghelo\" title=\"Python Anghelo\">Python Anghelo</a>,\n",
       " <a href=\"/wiki/Python_(Efteling)\" title=\"Python (Efteling)\">Python (Efteling)</a>,\n",
       " <a href=\"/wiki/Python_(Busch_Gardens_Tampa_Bay)\" title=\"Python (Busch Gardens Tampa Bay)\">Python (Busch Gardens Tampa Bay)</a>,\n",
       " <a href=\"/wiki/Python_(Coney_Island,_Cincinnati,_Ohio)\" title=\"Python (Coney Island, Cincinnati, Ohio)\">Python (Coney Island, Cincinnati, Ohio)</a>,\n",
       " <a href=\"/wiki/Python_(automobile_maker)\" title=\"Python (automobile maker)\">Python (automobile maker)</a>,\n",
       " <a href=\"/wiki/Python_(Ford_prototype)\" title=\"Python (Ford prototype)\">Python (Ford prototype)</a>,\n",
       " <a href=\"/wiki/Python_(missile)\" title=\"Python (missile)\">Python (missile)</a>,\n",
       " <a href=\"/wiki/Python_(nuclear_primary)\" title=\"Python (nuclear primary)\">Python (nuclear primary)</a>,\n",
       " <a href=\"/wiki/Colt_Python\" title=\"Colt Python\">Colt Python</a>,\n",
       " <a href=\"/wiki/Python_(codename)\" title=\"Python (codename)\">Python (codename)</a>,\n",
       " <a href=\"/wiki/Python_(film)\" title=\"Python (film)\"><i>Python</i> (film)</a>,\n",
       " <a href=\"/wiki/Monty_Python\" title=\"Monty Python\">Monty Python</a>,\n",
       " <a href=\"/wiki/Python_(Monty)_Pictures\" title=\"Python (Monty) Pictures\">Python (Monty) Pictures</a>,\n",
       " <a href=\"/wiki/Timon_of_Phlius\" title=\"Timon of Phlius\">Timon of Phlius</a>,\n",
       " <a href=\"/wiki/Pyton\" title=\"Pyton\">Pyton</a>,\n",
       " <a href=\"/wiki/Pithon\" title=\"Pithon\">Pithon</a>]"
      ]
     },
     "execution_count": 7,
     "metadata": {},
     "output_type": "execute_result"
    }
   ],
   "source": [
    "list_links = soup.select('div.mw-parser-output ul li a')\n",
    "list_links"
   ]
  },
  {
   "cell_type": "code",
   "execution_count": 8,
   "id": "47409c44",
   "metadata": {},
   "outputs": [
    {
     "name": "stdout",
     "output_type": "stream",
     "text": [
      "['/wiki/Pythonidae', '/wiki/Python_(genus)', '/wiki/Python_(mythology)', '/wiki/Python_(programming_language)', '/wiki/CMU_Common_Lisp', '/wiki/PERQ#PERQ_3', '/wiki/Python_of_Aenus', '/wiki/Python_(painter)', '/wiki/Python_of_Byzantium', '/wiki/Python_of_Catana', '/wiki/Python_Anghelo', '/wiki/Python_(Efteling)', '/wiki/Python_(Busch_Gardens_Tampa_Bay)', '/wiki/Python_(Coney_Island,_Cincinnati,_Ohio)', '/wiki/Python_(automobile_maker)', '/wiki/Python_(Ford_prototype)', '/wiki/Python_(missile)', '/wiki/Python_(nuclear_primary)', '/wiki/Colt_Python', '/wiki/Python_(codename)', '/wiki/Python_(film)', '/wiki/Monty_Python', '/wiki/Python_(Monty)_Pictures', '/wiki/Timon_of_Phlius', '/wiki/Pyton', '/wiki/Pithon']\n"
     ]
    }
   ],
   "source": [
    "list_href = []\n",
    "for link in list_links:\n",
    "    list_href.append(link['href'])\n",
    "print(list_href)"
   ]
  },
  {
   "cell_type": "markdown",
   "id": "d39a1d49",
   "metadata": {},
   "source": [
    "#### Find the number of titles that have changed in the United States Code since its last release point: url = 'http://uscode.house.gov/download/download.shtml'"
   ]
  },
  {
   "cell_type": "code",
   "execution_count": 9,
   "id": "9eac5455",
   "metadata": {},
   "outputs": [],
   "source": [
    "url = 'http://uscode.house.gov/download/download.shtml'"
   ]
  },
  {
   "cell_type": "code",
   "execution_count": 10,
   "id": "e80fc5c1",
   "metadata": {},
   "outputs": [
    {
     "data": {
      "text/plain": [
       "200"
      ]
     },
     "execution_count": 10,
     "metadata": {},
     "output_type": "execute_result"
    }
   ],
   "source": [
    "response = requests.get(url)\n",
    "response.status_code # 200 status code means OK!"
   ]
  },
  {
   "cell_type": "code",
   "execution_count": 11,
   "id": "56097e4a",
   "metadata": {},
   "outputs": [],
   "source": [
    "# 4.1. parse html (create the 'soup')\n",
    "soup = BeautifulSoup(response.content, \"html.parser\")"
   ]
  },
  {
   "cell_type": "code",
   "execution_count": 12,
   "id": "e83ad162",
   "metadata": {},
   "outputs": [],
   "source": [
    "#Check soup\n",
    "#soup.prettify()\n",
    "#content > div > div > div.uscitemlist > div:nth-child(4)"
   ]
  },
  {
   "cell_type": "code",
   "execution_count": 13,
   "id": "7a5a09c9",
   "metadata": {},
   "outputs": [
    {
     "data": {
      "text/plain": [
       "[<div class=\"uscitem\">\n",
       " <div class=\"usctitle\" id=\"us/usc/t1\">\n",
       " \n",
       "           Title 1 - General Provisions <span class=\"footnote\"><a class=\"fn\" href=\"#fn\">٭</a></span>\n",
       " </div>\n",
       " <div class=\"itemcurrency\">\n",
       " \n",
       "           118-2not263not328\n",
       " \n",
       "         </div>\n",
       " <div class=\"itemdownloadlinks\">\n",
       " <a href=\"releasepoints/us/pl/118/2not263not328/xml_usc01@118-2not263not328.zip\" title=\"Title 1 XML\">[XML]</a> <a href=\"releasepoints/us/pl/118/2not263not328/htm_usc01@118-2not263not328.zip\" title=\"Title 1 XHTML\">[XHTML]</a> <a href=\"releasepoints/us/pl/118/2not263not328/pcc_usc01@118-2not263not328.zip\" title=\"Title 1 PCC\">[PCC]</a> <a href=\"releasepoints/us/pl/118/2not263not328/pdf_usc01@118-2not263not328.zip\" title=\"Title 1 PDF\">[PDF]</a>\n",
       " </div>\n",
       " </div>]"
      ]
     },
     "execution_count": 13,
     "metadata": {},
     "output_type": "execute_result"
    }
   ],
   "source": [
    "soup.select('#content > div > div > div.uscitemlist > div:nth-child(4)')"
   ]
  },
  {
   "cell_type": "code",
   "execution_count": 14,
   "id": "e46d0407",
   "metadata": {},
   "outputs": [],
   "source": [
    "content = soup.select('.usctitle')\n",
    "#content"
   ]
  },
  {
   "cell_type": "code",
   "execution_count": 15,
   "id": "b7a66cda",
   "metadata": {},
   "outputs": [
    {
     "name": "stdout",
     "output_type": "stream",
     "text": [
      "['All titles in the format selected compressed into a zip archive.', '', 'Title 1 - General Provisions ٭', 'Title 2 - The Congress', 'Title 3 - The President ٭', 'Title 4 - Flag and Seal, Seat of Government, and the States ٭', 'Title 5 - Government Organization and Employees ٭', 'Title 6 - Domestic Security', 'Title 7 - Agriculture', 'Title 8 - Aliens and Nationality', 'Title 9 - Arbitration ٭', 'Title 10 - Armed Forces ٭', 'Title 11 - Bankruptcy ٭', 'Title 12 - Banks and Banking', 'Title 13 - Census ٭', 'Title 14 - Coast Guard ٭', 'Title 15 - Commerce and Trade', 'Title 16 - Conservation', 'Title 17 - Copyrights ٭', 'Title 18 - Crimes and Criminal Procedure ٭', 'Title 19 - Customs Duties', 'Title 20 - Education', 'Title 21 - Food and Drugs', 'Title 22 - Foreign Relations and Intercourse', 'Title 23 - Highways ٭', 'Title 24 - Hospitals and Asylums', 'Title 25 - Indians', 'Title 26 - Internal Revenue Code', 'Title 27 - Intoxicating Liquors', 'Title 28 - Judiciary and Judicial Procedure ٭', 'Title 29 - Labor', 'Title 30 - Mineral Lands and Mining', 'Title 31 - Money and Finance ٭', 'Title 32 - National Guard ٭', 'Title 33 - Navigation and Navigable Waters', 'Title 34 - Crime Control and Law Enforcement', 'Title 35 - Patents ٭', 'Title 36 - Patriotic and National Observances, Ceremonies, and Organizations ٭', 'Title 37 - Pay and Allowances of the Uniformed Services ٭', \"Title 38 - Veterans' Benefits ٭\", 'Title 39 - Postal Service ٭', 'Title 40 - Public Buildings, Property, and Works ٭', 'Title 41 - Public Contracts ٭', 'Title 42 - The Public Health and Welfare', 'Title 43 - Public Lands', 'Title 44 - Public Printing and Documents ٭', 'Title 45 - Railroads', 'Title 46 - Shipping ٭', 'Title 47 - Telecommunications', 'Title 48 - Territories and Insular Possessions', 'Title 49 - Transportation ٭', 'Title 51 - National and Commercial Space Programs ٭', 'Title 52 - Voting and Elections', 'Title 53 [Reserved]', 'Title 54 - National Park Service and Related Programs ٭']\n"
     ]
    }
   ],
   "source": [
    "titles = []\n",
    "for title in content:\n",
    "    try:\n",
    "        titles.append(title.get_text().strip())\n",
    "    except:\n",
    "        titles.append('NA')\n",
    "print(titles)"
   ]
  },
  {
   "cell_type": "code",
   "execution_count": 16,
   "id": "49504496",
   "metadata": {},
   "outputs": [
    {
     "data": {
      "text/plain": [
       "['Title 1 - General Provisions ٭',\n",
       " 'Title 2 - The Congress',\n",
       " 'Title 3 - The President ٭',\n",
       " 'Title 4 - Flag and Seal, Seat of Government, and the States ٭',\n",
       " 'Title 5 - Government Organization and Employees ٭',\n",
       " 'Title 6 - Domestic Security',\n",
       " 'Title 7 - Agriculture',\n",
       " 'Title 8 - Aliens and Nationality',\n",
       " 'Title 9 - Arbitration ٭',\n",
       " 'Title 10 - Armed Forces ٭',\n",
       " 'Title 11 - Bankruptcy ٭',\n",
       " 'Title 12 - Banks and Banking',\n",
       " 'Title 13 - Census ٭',\n",
       " 'Title 14 - Coast Guard ٭',\n",
       " 'Title 15 - Commerce and Trade',\n",
       " 'Title 16 - Conservation',\n",
       " 'Title 17 - Copyrights ٭',\n",
       " 'Title 18 - Crimes and Criminal Procedure ٭',\n",
       " 'Title 19 - Customs Duties',\n",
       " 'Title 20 - Education',\n",
       " 'Title 21 - Food and Drugs',\n",
       " 'Title 22 - Foreign Relations and Intercourse',\n",
       " 'Title 23 - Highways ٭',\n",
       " 'Title 24 - Hospitals and Asylums',\n",
       " 'Title 25 - Indians',\n",
       " 'Title 26 - Internal Revenue Code',\n",
       " 'Title 27 - Intoxicating Liquors',\n",
       " 'Title 28 - Judiciary and Judicial Procedure ٭',\n",
       " 'Title 29 - Labor',\n",
       " 'Title 30 - Mineral Lands and Mining',\n",
       " 'Title 31 - Money and Finance ٭',\n",
       " 'Title 32 - National Guard ٭',\n",
       " 'Title 33 - Navigation and Navigable Waters',\n",
       " 'Title 34 - Crime Control and Law Enforcement',\n",
       " 'Title 35 - Patents ٭',\n",
       " 'Title 36 - Patriotic and National Observances, Ceremonies, and Organizations ٭',\n",
       " 'Title 37 - Pay and Allowances of the Uniformed Services ٭',\n",
       " \"Title 38 - Veterans' Benefits ٭\",\n",
       " 'Title 39 - Postal Service ٭',\n",
       " 'Title 40 - Public Buildings, Property, and Works ٭',\n",
       " 'Title 41 - Public Contracts ٭',\n",
       " 'Title 42 - The Public Health and Welfare',\n",
       " 'Title 43 - Public Lands',\n",
       " 'Title 44 - Public Printing and Documents ٭',\n",
       " 'Title 45 - Railroads',\n",
       " 'Title 46 - Shipping ٭',\n",
       " 'Title 47 - Telecommunications',\n",
       " 'Title 48 - Territories and Insular Possessions',\n",
       " 'Title 49 - Transportation ٭',\n",
       " 'Title 51 - National and Commercial Space Programs ٭',\n",
       " 'Title 52 - Voting and Elections',\n",
       " 'Title 53 [Reserved]',\n",
       " 'Title 54 - National Park Service and Related Programs ٭']"
      ]
     },
     "execution_count": 16,
     "metadata": {},
     "output_type": "execute_result"
    }
   ],
   "source": [
    "titles.pop(0)\n",
    "titles.pop(0)\n",
    "titles"
   ]
  },
  {
   "cell_type": "code",
   "execution_count": 17,
   "id": "d771a42f",
   "metadata": {},
   "outputs": [
    {
     "name": "stdout",
     "output_type": "stream",
     "text": [
      "Number of changed titles:  53\n"
     ]
    }
   ],
   "source": [
    "print('Number of changed titles: ', len(titles))"
   ]
  },
  {
   "cell_type": "markdown",
   "id": "40a7de87",
   "metadata": {},
   "source": [
    "#### Create a Python list with the top ten FBI's Most Wanted names: url = 'https://www.fbi.gov/wanted/topten'"
   ]
  },
  {
   "cell_type": "code",
   "execution_count": 18,
   "id": "844d44f6",
   "metadata": {},
   "outputs": [],
   "source": [
    "url = 'https://www.fbi.gov/wanted/topten'"
   ]
  },
  {
   "cell_type": "code",
   "execution_count": 19,
   "id": "239c5614",
   "metadata": {},
   "outputs": [
    {
     "data": {
      "text/plain": [
       "200"
      ]
     },
     "execution_count": 19,
     "metadata": {},
     "output_type": "execute_result"
    }
   ],
   "source": [
    "response = requests.get(url)\n",
    "response.status_code # 200 status code means OK!"
   ]
  },
  {
   "cell_type": "code",
   "execution_count": 20,
   "id": "df0e7c0c",
   "metadata": {},
   "outputs": [],
   "source": [
    "# 4.1. parse html (create the 'soup')\n",
    "soup = BeautifulSoup(response.content, \"html.parser\")"
   ]
  },
  {
   "cell_type": "code",
   "execution_count": 21,
   "id": "13973fbd",
   "metadata": {},
   "outputs": [],
   "source": [
    "#soup.select('#query-results-0f737222c5054a81a120bce207b0446a > ul > li:nth-child(1) > h3 > a')"
   ]
  },
  {
   "cell_type": "code",
   "execution_count": 22,
   "id": "4992435e",
   "metadata": {},
   "outputs": [
    {
     "data": {
      "text/plain": [
       "[<a href=\"https://www.fbi.gov/wanted/topten/omar-alexander-cardenas\">OMAR ALEXANDER CARDENAS</a>,\n",
       " <a href=\"https://www.fbi.gov/wanted/topten/alexis-flores\">ALEXIS FLORES</a>,\n",
       " <a href=\"https://www.fbi.gov/wanted/topten/bhadreshkumar-chetanbhai-patel\">BHADRESHKUMAR CHETANBHAI PATEL</a>,\n",
       " <a href=\"https://www.fbi.gov/wanted/topten/alejandro-castillo\">ALEJANDRO ROSALES CASTILLO</a>,\n",
       " <a href=\"https://www.fbi.gov/wanted/topten/yulan-adonay-archaga-carias\">YULAN ADONAY ARCHAGA CARIAS</a>,\n",
       " <a href=\"https://www.fbi.gov/wanted/topten/ruja-ignatova\">RUJA IGNATOVA</a>,\n",
       " <a href=\"https://www.fbi.gov/wanted/topten/arnoldo-jimenez\">ARNOLDO JIMENEZ</a>,\n",
       " <a href=\"https://www.fbi.gov/wanted/topten/michael-james-pratt\">MICHAEL JAMES PRATT</a>,\n",
       " <a href=\"https://www.fbi.gov/wanted/topten/jose-rodolfo-villarreal-hernandez\">JOSE RODOLFO VILLARREAL-HERNANDEZ</a>,\n",
       " <a href=\"https://www.fbi.gov/wanted/topten/rafael-caro-quintero\">RAFAEL CARO-QUINTERO</a>]"
      ]
     },
     "execution_count": 22,
     "metadata": {},
     "output_type": "execute_result"
    }
   ],
   "source": [
    "soup.select('h3 > a')"
   ]
  },
  {
   "cell_type": "code",
   "execution_count": 23,
   "id": "30fe2b49",
   "metadata": {},
   "outputs": [
    {
     "name": "stdout",
     "output_type": "stream",
     "text": [
      "['OMAR ALEXANDER CARDENAS', 'ALEXIS FLORES', 'BHADRESHKUMAR CHETANBHAI PATEL', 'ALEJANDRO ROSALES CASTILLO', 'YULAN ADONAY ARCHAGA CARIAS', 'RUJA IGNATOVA', 'ARNOLDO JIMENEZ', 'MICHAEL JAMES PRATT', 'JOSE RODOLFO VILLARREAL-HERNANDEZ', 'RAFAEL CARO-QUINTERO']\n"
     ]
    }
   ],
   "source": [
    "list_names = []\n",
    "for name in soup.select('h3 > a'):\n",
    "    list_names.append(name.get_text())\n",
    "print(list_names)"
   ]
  },
  {
   "cell_type": "markdown",
   "id": "65b65df2",
   "metadata": {},
   "source": [
    "#### Display the 20 latest earthquakes info (date, time, latitude, longitude and region name) by the EMSC as a pandas dataframe: url = 'https://www.emsc-csem.org/Earthquake/'"
   ]
  },
  {
   "cell_type": "code",
   "execution_count": 24,
   "id": "86cfff5c",
   "metadata": {},
   "outputs": [],
   "source": [
    "url_earth = 'https://www.emsc-csem.org/Earthquake/'"
   ]
  },
  {
   "cell_type": "code",
   "execution_count": 25,
   "id": "3ac6cbb5",
   "metadata": {},
   "outputs": [
    {
     "data": {
      "text/plain": [
       "200"
      ]
     },
     "execution_count": 25,
     "metadata": {},
     "output_type": "execute_result"
    }
   ],
   "source": [
    "response_earth = requests.get(url_earth)\n",
    "response_earth.status_code # 200 status code means OK!"
   ]
  },
  {
   "cell_type": "code",
   "execution_count": 26,
   "id": "f843f778",
   "metadata": {},
   "outputs": [],
   "source": [
    "# 4.1. parse html (create the 'soup')\n",
    "soup_earth = BeautifulSoup(response_earth.content, \"html.parser\")"
   ]
  },
  {
   "cell_type": "code",
   "execution_count": 31,
   "id": "a66e4dd1",
   "metadata": {},
   "outputs": [],
   "source": [
    "#tbody\n",
    "prestab = soup_earth.select(\"table\")[3]\n",
    "#prestab\n",
    "#prestab.select(\"tr td \")"
   ]
  },
  {
   "cell_type": "code",
   "execution_count": 29,
   "id": "14bc12cc",
   "metadata": {},
   "outputs": [],
   "source": [
    "date_time = prestab.select(\"td.tabev6 a\")[:20]\n",
    "latitude = prestab.select(\"td.tabev1\")[:20]"
   ]
  },
  {
   "cell_type": "markdown",
   "id": "a27c870c",
   "metadata": {},
   "source": [
    "##### 4.th task to be continued"
   ]
  },
  {
   "cell_type": "code",
   "execution_count": null,
   "id": "5182d471",
   "metadata": {},
   "outputs": [],
   "source": []
  }
 ],
 "metadata": {
  "kernelspec": {
   "display_name": "Python 3 (ipykernel)",
   "language": "python",
   "name": "python3"
  },
  "language_info": {
   "codemirror_mode": {
    "name": "ipython",
    "version": 3
   },
   "file_extension": ".py",
   "mimetype": "text/x-python",
   "name": "python",
   "nbconvert_exporter": "python",
   "pygments_lexer": "ipython3",
   "version": "3.9.13"
  }
 },
 "nbformat": 4,
 "nbformat_minor": 5
}
